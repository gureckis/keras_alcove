{
 "cells": [
  {
   "cell_type": "code",
   "execution_count": 121,
   "metadata": {},
   "outputs": [],
   "source": [
    "import numpy as np\n",
    "from tensorflow import keras\n",
    "from tensorflow.keras import layers\n",
    "import tensorflow as tf\n",
    "import tensorflow_addons as tfa\n",
    "import seaborn as sns\n",
    "import pandas as pd"
   ]
  },
  {
   "cell_type": "code",
   "execution_count": 14,
   "metadata": {},
   "outputs": [
    {
     "data": {
      "text/plain": [
       "1.7320508075688772"
      ]
     },
     "execution_count": 14,
     "metadata": {},
     "output_type": "execute_result"
    }
   ],
   "source": [
    "np.sqrt(np.sum(np.power(np.array([0,0,0]) - np.array([1,1,1]),2.0)))"
   ]
  },
  {
   "cell_type": "code",
   "execution_count": 2,
   "metadata": {},
   "outputs": [],
   "source": [
    "stims = np.array([[0,0,0],\n",
    "         [0,0,1],\n",
    "         [0,1,0],\n",
    "         [0,1,1],\n",
    "         [1,0,0],\n",
    "         [1,0,1],\n",
    "         [1,1,0],\n",
    "         [1,1,1]], dtype=np.float32)\n",
    "\n",
    "labels = np.array([\n",
    "                    [0,0,0,0,1,1,1,1], # type 1\n",
    "                    [0,0,1,1,1,1,0,0], # type 2\n",
    "                    [1,1,1,0,0,1,0,0], # type 3\n",
    "                    [1,1,1,0,1,0,0,0], # type 4\n",
    "                    [1,1,1,0,0,0,0,1], # type 5\n",
    "                    [1,0,0,1,0,1,1,0]  # type 6\n",
    "                ], dtype=np.float32)\n"
   ]
  },
  {
   "cell_type": "code",
   "execution_count": 172,
   "metadata": {},
   "outputs": [],
   "source": [
    "runs_df = []\n",
    "for problem in range(labels.shape[0]):\n",
    "    for i in range(100):\n",
    "        model = keras.Sequential([\n",
    "            layers.Dense(5, activation=\"relu\"),\n",
    "            layers.Dense(1, activation=\"sigmoid\")\n",
    "        ])\n",
    "        model.compile(optimizer=keras.optimizers.RMSprop(learning_rate=0.005), loss=\"binary_crossentropy\", metrics=[\"accuracy\"])\n",
    "        history = model.fit(stims, labels[problem], epochs=100, batch_size=8, verbose=False)\n",
    "        run_df=pd.DataFrame(history.history)\n",
    "        run_df['error']=1.0-run_df['accuracy']\n",
    "        run_df['block']=run_df.index\n",
    "        run_df['run']=i\n",
    "        run_df['problem']=problem+1\n",
    "        runs_df.append(run_df)\n",
    "runs_df = pd.concat(runs_df)\n"
   ]
  },
  {
   "cell_type": "code",
   "execution_count": 108,
   "metadata": {},
   "outputs": [
    {
     "data": {
      "text/html": [
       "<div>\n",
       "<style scoped>\n",
       "    .dataframe tbody tr th:only-of-type {\n",
       "        vertical-align: middle;\n",
       "    }\n",
       "\n",
       "    .dataframe tbody tr th {\n",
       "        vertical-align: top;\n",
       "    }\n",
       "\n",
       "    .dataframe thead th {\n",
       "        text-align: right;\n",
       "    }\n",
       "</style>\n",
       "<table border=\"1\" class=\"dataframe\">\n",
       "  <thead>\n",
       "    <tr style=\"text-align: right;\">\n",
       "      <th></th>\n",
       "      <th>loss</th>\n",
       "      <th>accuracy</th>\n",
       "      <th>error</th>\n",
       "      <th>block</th>\n",
       "      <th>run</th>\n",
       "      <th>problem</th>\n",
       "    </tr>\n",
       "  </thead>\n",
       "  <tbody>\n",
       "    <tr>\n",
       "      <th>0</th>\n",
       "      <td>0.663492</td>\n",
       "      <td>0.750</td>\n",
       "      <td>0.250</td>\n",
       "      <td>0</td>\n",
       "      <td>0</td>\n",
       "      <td>0</td>\n",
       "    </tr>\n",
       "    <tr>\n",
       "      <th>1</th>\n",
       "      <td>0.658746</td>\n",
       "      <td>0.625</td>\n",
       "      <td>0.375</td>\n",
       "      <td>1</td>\n",
       "      <td>0</td>\n",
       "      <td>0</td>\n",
       "    </tr>\n",
       "    <tr>\n",
       "      <th>2</th>\n",
       "      <td>0.655073</td>\n",
       "      <td>0.625</td>\n",
       "      <td>0.375</td>\n",
       "      <td>2</td>\n",
       "      <td>0</td>\n",
       "      <td>0</td>\n",
       "    </tr>\n",
       "    <tr>\n",
       "      <th>3</th>\n",
       "      <td>0.652146</td>\n",
       "      <td>0.625</td>\n",
       "      <td>0.375</td>\n",
       "      <td>3</td>\n",
       "      <td>0</td>\n",
       "      <td>0</td>\n",
       "    </tr>\n",
       "    <tr>\n",
       "      <th>4</th>\n",
       "      <td>0.649537</td>\n",
       "      <td>0.625</td>\n",
       "      <td>0.375</td>\n",
       "      <td>4</td>\n",
       "      <td>0</td>\n",
       "      <td>0</td>\n",
       "    </tr>\n",
       "  </tbody>\n",
       "</table>\n",
       "</div>"
      ],
      "text/plain": [
       "       loss  accuracy  error  block  run  problem\n",
       "0  0.663492     0.750  0.250      0    0        0\n",
       "1  0.658746     0.625  0.375      1    0        0\n",
       "2  0.655073     0.625  0.375      2    0        0\n",
       "3  0.652146     0.625  0.375      3    0        0\n",
       "4  0.649537     0.625  0.375      4    0        0"
      ]
     },
     "execution_count": 108,
     "metadata": {},
     "output_type": "execute_result"
    }
   ],
   "source": [
    "runs_df.head()"
   ]
  },
  {
   "cell_type": "code",
   "execution_count": 133,
   "metadata": {},
   "outputs": [
    {
     "data": {
      "text/plain": [
       "<AxesSubplot:xlabel='block', ylabel='error'>"
      ]
     },
     "execution_count": 133,
     "metadata": {},
     "output_type": "execute_result"
    },
    {
     "data": {
      "image/png": "[encoded data removed]",
      "text/plain": [
       "<Figure size 432x288 with 1 Axes>"
      ]
     },
     "metadata": {
      "needs_background": "light"
     },
     "output_type": "display_data"
    }
   ],
   "source": [
    "sns.lineplot(x='block',y='error',style='problem',hue='problem',data=runs_df.groupby([\"block\",\"problem\"]).mean())"
   ]
  },
  {
   "cell_type": "markdown",
   "metadata": {},
   "source": [
    "## Alcove Implementation"
   ]
  },
  {
   "cell_type": "markdown",
   "metadata": {},
   "source": [
    "2. custom loss to use humble teacher\n",
    "(2b. it should 1 sigmoid 2 softmax)"
   ]
  },
  {
   "cell_type": "code",
   "execution_count": 83,
   "metadata": {},
   "outputs": [],
   "source": [
    "class ALCOVE(keras.Model):\n",
    "    def __init__(self, exemplars, c=6.5, phi=2.5):\n",
    "        super().__init__()\n",
    "        self.exemplars = tf.dtypes.cast(exemplars, tf.float32)\n",
    "        self.ne = exemplars.shape[0]\n",
    "        self.attn = tf.Variable(np.ones((3,))/3.0, dtype=tf.float32, trainable=True)\n",
    "        self.output_layer = layers.Dense(1, activation=\"sigmoid\", use_bias=False)  # later this should be two output and humble teacher loss\n",
    "        self.c = c\n",
    "        self.phi = phi\n",
    "\n",
    "    def get_attention(self):\n",
    "        return self.attn.numpy()\n",
    "\n",
    "    def call(self, inputs):\n",
    "        h_acts = []\n",
    "        for n_ins in range(inputs.shape[0]):\n",
    "            h_act = tf.math.exp(-self.c*tf.reduce_sum(self.attn*tf.math.abs(self.exemplars - inputs[n_ins]),1))\n",
    "            h_acts.append(h_act)\n",
    "        output = self.output_layer(tf.stack(h_acts))\n",
    "        return output\n",
    "\n",
    "# This doesn't work, saving custom objects is harder than this apparently\n",
    "# model_checkpoint_callback = tf.keras.callbacks.ModelCheckpoint(\n",
    "#     filepath='./model_checkpoints/model-{epoch:02d}.hd5',\n",
    "#     save_weights_only=False,\n",
    "#     save_best_only=False,\n",
    "#     save_freq=\"epoch\"\n",
    "# )\n",
    "\n",
    "print_attn = tf.keras.callbacks.LambdaCallback(on_epoch_end=lambda batch, logs: print(model.get_attention()))\n",
    "\n"
   ]
  },
  {
   "cell_type": "code",
   "execution_count": 72,
   "metadata": {},
   "outputs": [
    {
     "data": {
      "text/plain": [
       "<tf.Variable 'Variable:0' shape=(3,) dtype=float32, numpy=array([0.41820854, 0.2939604 , 0.14120565], dtype=float32)>"
      ]
     },
     "execution_count": 72,
     "metadata": {},
     "output_type": "execute_result"
    }
   ],
   "source": [
    "model.attn"
   ]
  },
  {
   "cell_type": "code",
   "execution_count": 84,
   "metadata": {},
   "outputs": [
    {
     "name": "stdout",
     "output_type": "stream",
     "text": [
      "Epoch 1/100\n",
      "1/1 [==============================] - 0s 409ms/step - loss: 0.7611 - accuracy: 0.2500\n",
      "[0.31752205 0.31752208 0.3491446 ]\n",
      "Epoch 2/100\n",
      "1/1 [==============================] - 0s 2ms/step - loss: 0.7520 - accuracy: 0.3750\n",
      "[0.30643716 0.3065025  0.35908228]\n",
      "Epoch 3/100\n",
      "1/1 [==============================] - 0s 2ms/step - loss: 0.7460 - accuracy: 0.3750\n",
      "[0.2974273  0.29759213 0.36667418]\n",
      "Epoch 4/100\n",
      "1/1 [==============================] - 0s 1ms/step - loss: 0.7412 - accuracy: 0.3750\n",
      "[0.28966844 0.28996146 0.37292734]\n",
      "Epoch 5/100\n",
      "1/1 [==============================] - 0s 1ms/step - loss: 0.7372 - accuracy: 0.3750\n",
      "[0.2827874 0.283237  0.3782854]\n",
      "Epoch 6/100\n",
      "1/1 [==============================] - 0s 1ms/step - loss: 0.7337 - accuracy: 0.3750\n",
      "[0.27658406 0.2772205  0.3829869 ]\n",
      "Epoch 7/100\n",
      "1/1 [==============================] - 0s 2ms/step - loss: 0.7306 - accuracy: 0.3750\n",
      "[0.27094153 0.27179825 0.38717568]\n",
      "Epoch 8/100\n",
      "1/1 [==============================] - 0s 2ms/step - loss: 0.7278 - accuracy: 0.3750\n",
      "[0.26578957 0.26690435 0.39094502]\n",
      "Epoch 9/100\n",
      "1/1 [==============================] - 0s 1ms/step - loss: 0.7251 - accuracy: 0.3750\n",
      "[0.26108715 0.2625032  0.39435828]\n",
      "Epoch 10/100\n",
      "1/1 [==============================] - 0s 2ms/step - loss: 0.7227 - accuracy: 0.3750\n",
      "[0.25681368 0.25858074 0.3974596 ]\n",
      "Epoch 11/100\n",
      "1/1 [==============================] - 0s 2ms/step - loss: 0.7204 - accuracy: 0.5000\n",
      "[0.25296414 0.25513968 0.40028   ]\n",
      "Epoch 12/100\n",
      "1/1 [==============================] - 0s 2ms/step - loss: 0.7183 - accuracy: 0.5000\n",
      "[0.24954674 0.2521971  0.40284073]\n",
      "Epoch 13/100\n",
      "1/1 [==============================] - 0s 1ms/step - loss: 0.7163 - accuracy: 0.6250\n",
      "[0.24658164 0.24978296 0.40515545]\n",
      "Epoch 14/100\n",
      "1/1 [==============================] - 0s 1ms/step - loss: 0.7144 - accuracy: 0.6250\n",
      "[0.24410067 0.24793938 0.40723127]\n",
      "Epoch 15/100\n",
      "1/1 [==============================] - 0s 2ms/step - loss: 0.7125 - accuracy: 0.6250\n",
      "[0.24214727 0.24671929 0.40906936]\n",
      "Epoch 16/100\n",
      "1/1 [==============================] - 0s 2ms/step - loss: 0.7107 - accuracy: 0.6250\n",
      "[0.24077632 0.24618436 0.41066495]\n",
      "Epoch 17/100\n",
      "1/1 [==============================] - 0s 2ms/step - loss: 0.7090 - accuracy: 0.6250\n",
      "[0.24005322 0.24640064 0.41200694]\n",
      "Epoch 18/100\n",
      "1/1 [==============================] - 0s 1ms/step - loss: 0.7072 - accuracy: 0.6250\n",
      "[0.24005109 0.24743105 0.41307724]\n",
      "Epoch 19/100\n",
      "1/1 [==============================] - 0s 1ms/step - loss: 0.7055 - accuracy: 0.6250\n",
      "[0.24084462 0.24932434 0.41384962]\n",
      "Epoch 20/100\n",
      "1/1 [==============================] - 0s 1ms/step - loss: 0.7038 - accuracy: 0.6250\n",
      "[0.24249956 0.2521013  0.41428864]\n",
      "Epoch 21/100\n",
      "1/1 [==============================] - 0s 2ms/step - loss: 0.7021 - accuracy: 0.6250\n",
      "[0.24505752 0.25574237 0.4143483 ]\n",
      "Epoch 22/100\n",
      "1/1 [==============================] - 0s 1ms/step - loss: 0.7003 - accuracy: 0.6250\n",
      "[0.24851936 0.26018187 0.41397125]\n",
      "Epoch 23/100\n",
      "1/1 [==============================] - 0s 1ms/step - loss: 0.6984 - accuracy: 0.6250\n",
      "[0.25283366 0.26531333 0.41308874]\n",
      "Epoch 24/100\n",
      "1/1 [==============================] - 0s 1ms/step - loss: 0.6964 - accuracy: 0.6250\n",
      "[0.2578978 0.271005  0.4116223]\n",
      "Epoch 25/100\n",
      "1/1 [==============================] - 0s 1ms/step - loss: 0.6944 - accuracy: 0.6250\n",
      "[0.26357347 0.2771193  0.4094877 ]\n",
      "Epoch 26/100\n",
      "1/1 [==============================] - 0s 2ms/step - loss: 0.6923 - accuracy: 0.6250\n",
      "[0.2697102  0.2835291  0.40660268]\n",
      "Epoch 27/100\n",
      "1/1 [==============================] - 0s 1ms/step - loss: 0.6901 - accuracy: 0.6250\n",
      "[0.276167   0.29012725 0.40289858]\n",
      "Epoch 28/100\n",
      "1/1 [==============================] - 0s 2ms/step - loss: 0.6878 - accuracy: 0.6250\n",
      "[0.28282532 0.29682958 0.39833552]\n",
      "Epoch 29/100\n",
      "1/1 [==============================] - 0s 1ms/step - loss: 0.6854 - accuracy: 0.6250\n",
      "[0.28959316 0.30357337 0.39291742]\n",
      "Epoch 30/100\n",
      "1/1 [==============================] - 0s 2ms/step - loss: 0.6829 - accuracy: 0.6250\n",
      "[0.2964032  0.31031385 0.3867001 ]\n",
      "Epoch 31/100\n",
      "1/1 [==============================] - 0s 2ms/step - loss: 0.6804 - accuracy: 0.6250\n",
      "[0.30320835 0.3170202  0.37978667]\n",
      "Epoch 32/100\n",
      "1/1 [==============================] - 0s 1ms/step - loss: 0.6778 - accuracy: 0.6250\n",
      "[0.3099768  0.323672   0.37231022]\n",
      "Epoch 33/100\n",
      "1/1 [==============================] - 0s 3ms/step - loss: 0.6751 - accuracy: 0.6250\n",
      "[0.31668773 0.33025625 0.36441106]\n",
      "Epoch 34/100\n",
      "1/1 [==============================] - 0s 3ms/step - loss: 0.6723 - accuracy: 0.6250\n",
      "[0.32332823 0.3367653  0.35621756]\n",
      "Epoch 35/100\n",
      "1/1 [==============================] - 0s 3ms/step - loss: 0.6695 - accuracy: 0.6250\n",
      "[0.32989073 0.34319508 0.34783584]\n",
      "Epoch 36/100\n",
      "1/1 [==============================] - 0s 2ms/step - loss: 0.6666 - accuracy: 0.6250\n",
      "[0.33637142 0.3495441  0.33934715]\n",
      "Epoch 37/100\n",
      "1/1 [==============================] - 0s 3ms/step - loss: 0.6636 - accuracy: 0.6250\n",
      "[0.34276906 0.3558126  0.33081043]\n",
      "Epoch 38/100\n",
      "1/1 [==============================] - 0s 3ms/step - loss: 0.6606 - accuracy: 0.7500\n",
      "[0.34908414 0.362002   0.32226673]\n",
      "Epoch 39/100\n",
      "1/1 [==============================] - 0s 2ms/step - loss: 0.6576 - accuracy: 0.7500\n",
      "[0.3553184  0.36811444 0.3137436 ]\n",
      "Epoch 40/100\n",
      "1/1 [==============================] - 0s 3ms/step - loss: 0.6544 - accuracy: 0.7500\n",
      "[0.3614743  0.37415272 0.305259  ]\n",
      "Epoch 41/100\n",
      "1/1 [==============================] - 0s 2ms/step - loss: 0.6512 - accuracy: 0.7500\n",
      "[0.36755487 0.3801198  0.29682407]\n",
      "Epoch 42/100\n",
      "1/1 [==============================] - 0s 3ms/step - loss: 0.6480 - accuracy: 0.7500\n",
      "[0.37356335 0.38601893 0.2884454 ]\n",
      "Epoch 43/100\n",
      "1/1 [==============================] - 0s 2ms/step - loss: 0.6447 - accuracy: 0.7500\n",
      "[0.37950316 0.39185333 0.28012645]\n",
      "Epoch 44/100\n",
      "1/1 [==============================] - 0s 2ms/step - loss: 0.6413 - accuracy: 0.7500\n",
      "[0.38537776 0.3976263  0.27186853]\n",
      "Epoch 45/100\n",
      "1/1 [==============================] - 0s 2ms/step - loss: 0.6379 - accuracy: 0.7500\n",
      "[0.3911906  0.40334105 0.26367164]\n",
      "Epoch 46/100\n",
      "1/1 [==============================] - 0s 2ms/step - loss: 0.6344 - accuracy: 0.7500\n",
      "[0.39694503 0.40900072 0.25553492]\n",
      "Epoch 47/100\n",
      "1/1 [==============================] - 0s 3ms/step - loss: 0.6308 - accuracy: 0.7500\n",
      "[0.40264434 0.41460836 0.24745691]\n",
      "Epoch 48/100\n",
      "1/1 [==============================] - 0s 2ms/step - loss: 0.6271 - accuracy: 0.7500\n",
      "[0.40829167 0.42016688 0.23943588]\n",
      "Epoch 49/100\n",
      "1/1 [==============================] - 0s 2ms/step - loss: 0.6234 - accuracy: 0.7500\n",
      "[0.41389    0.42567906 0.23146993]\n",
      "Epoch 50/100\n",
      "1/1 [==============================] - 0s 3ms/step - loss: 0.6196 - accuracy: 0.7500\n",
      "[0.41944218 0.43114758 0.2235571 ]\n",
      "Epoch 51/100\n",
      "1/1 [==============================] - 0s 2ms/step - loss: 0.6158 - accuracy: 0.7500\n",
      "[0.42495093 0.43657497 0.21569543]\n",
      "Epoch 52/100\n",
      "1/1 [==============================] - 0s 1ms/step - loss: 0.6118 - accuracy: 0.7500\n",
      "[0.4304188  0.44196358 0.20788302]\n",
      "Epoch 53/100\n",
      "1/1 [==============================] - 0s 2ms/step - loss: 0.6078 - accuracy: 0.7500\n",
      "[0.43584818 0.44731572 0.20011806]\n",
      "Epoch 54/100\n",
      "1/1 [==============================] - 0s 2ms/step - loss: 0.6037 - accuracy: 0.7500\n",
      "[0.44124138 0.45263353 0.19239886]\n",
      "Epoch 55/100\n",
      "1/1 [==============================] - 0s 2ms/step - loss: 0.5994 - accuracy: 0.7500\n",
      "[0.4466005  0.45791897 0.18472382]\n",
      "Epoch 56/100\n",
      "1/1 [==============================] - 0s 2ms/step - loss: 0.5951 - accuracy: 0.7500\n",
      "[0.45192754 0.463174   0.17709146]\n",
      "Epoch 57/100\n",
      "1/1 [==============================] - 0s 4ms/step - loss: 0.5907 - accuracy: 0.7500\n",
      "[0.45722437 0.46840033 0.16950044]\n",
      "Epoch 58/100\n",
      "1/1 [==============================] - 0s 3ms/step - loss: 0.5862 - accuracy: 0.7500\n",
      "[0.46249267 0.47359964 0.1619495 ]\n",
      "Epoch 59/100\n",
      "1/1 [==============================] - 0s 7ms/step - loss: 0.5815 - accuracy: 0.7500\n",
      "[0.4677341  0.47877347 0.15443756]\n",
      "Epoch 60/100\n",
      "1/1 [==============================] - 0s 4ms/step - loss: 0.5768 - accuracy: 0.7500\n",
      "[0.47295013 0.4839233  0.1469636 ]\n",
      "Epoch 61/100\n",
      "1/1 [==============================] - 0s 3ms/step - loss: 0.5719 - accuracy: 0.8750\n",
      "[0.47814214 0.4890504  0.13952674]\n",
      "Epoch 62/100\n",
      "1/1 [==============================] - 0s 4ms/step - loss: 0.5669 - accuracy: 0.8750\n",
      "[0.4833114  0.49415603 0.13212621]\n",
      "Epoch 63/100\n",
      "1/1 [==============================] - 0s 2ms/step - loss: 0.5618 - accuracy: 0.8750\n",
      "[0.48845908 0.49924132 0.12476136]\n",
      "Epoch 64/100\n",
      "1/1 [==============================] - 0s 3ms/step - loss: 0.5565 - accuracy: 0.8750\n",
      "[0.49358618 0.5043073  0.11743161]\n",
      "Epoch 65/100\n",
      "1/1 [==============================] - 0s 4ms/step - loss: 0.5511 - accuracy: 0.8750\n",
      "[0.49869365 0.50935495 0.11013651]\n",
      "Epoch 66/100\n",
      "1/1 [==============================] - 0s 2ms/step - loss: 0.5456 - accuracy: 0.8750\n",
      "[0.50378233 0.51438504 0.10287569]\n",
      "Epoch 67/100\n",
      "1/1 [==============================] - 0s 2ms/step - loss: 0.5399 - accuracy: 0.8750\n",
      "[0.50885296 0.5193984  0.0956489 ]\n",
      "Epoch 68/100\n",
      "1/1 [==============================] - 0s 1ms/step - loss: 0.5341 - accuracy: 0.8750\n",
      "[0.5139062  0.52439564 0.08845595]\n",
      "Epoch 69/100\n",
      "1/1 [==============================] - 0s 3ms/step - loss: 0.5281 - accuracy: 0.8750\n",
      "[0.5189426  0.52937734 0.08129677]\n",
      "Epoch 70/100\n",
      "1/1 [==============================] - 0s 2ms/step - loss: 0.5219 - accuracy: 0.8750\n",
      "[0.52396256 0.534344   0.07417136]\n",
      "Epoch 71/100\n",
      "1/1 [==============================] - 0s 1ms/step - loss: 0.5156 - accuracy: 1.0000\n",
      "[0.5289665  0.539296   0.06707983]\n",
      "Epoch 72/100\n",
      "1/1 [==============================] - 0s 1ms/step - loss: 0.5091 - accuracy: 1.0000\n",
      "[0.5339546  0.54423356 0.06002234]\n",
      "Epoch 73/100\n",
      "1/1 [==============================] - 0s 2ms/step - loss: 0.5025 - accuracy: 1.0000\n",
      "[0.5389271  0.549157   0.05299917]\n",
      "Epoch 74/100\n",
      "1/1 [==============================] - 0s 4ms/step - loss: 0.4957 - accuracy: 1.0000\n",
      "[0.543884   0.5540664  0.04601067]\n",
      "Epoch 75/100\n",
      "1/1 [==============================] - 0s 2ms/step - loss: 0.4887 - accuracy: 1.0000\n",
      "[0.5488253  0.5589618  0.03905727]\n",
      "Epoch 76/100\n",
      "1/1 [==============================] - 0s 5ms/step - loss: 0.4815 - accuracy: 1.0000\n",
      "[0.553751   0.56384313 0.03213948]\n",
      "Epoch 77/100\n",
      "1/1 [==============================] - 0s 3ms/step - loss: 0.4742 - accuracy: 1.0000\n",
      "[0.55866075 0.56871027 0.0252579 ]\n",
      "Epoch 78/100\n",
      "1/1 [==============================] - 0s 2ms/step - loss: 0.4666 - accuracy: 1.0000\n",
      "[0.56355435 0.573563   0.01841321]\n",
      "Epoch 79/100\n",
      "1/1 [==============================] - 0s 2ms/step - loss: 0.4590 - accuracy: 1.0000\n",
      "[0.56843144 0.57840097 0.01160614]\n",
      "Epoch 80/100\n",
      "1/1 [==============================] - 0s 2ms/step - loss: 0.4511 - accuracy: 1.0000\n",
      "[0.57329154 0.5832238  0.00483753]\n",
      "Epoch 81/100\n",
      "1/1 [==============================] - 0s 2ms/step - loss: 0.4431 - accuracy: 1.0000\n",
      "[ 0.5781341   0.58803105 -0.00189173]\n",
      "Epoch 82/100\n",
      "1/1 [==============================] - 0s 2ms/step - loss: 0.4349 - accuracy: 1.0000\n",
      "[ 0.5829586   0.5928221  -0.00858066]\n",
      "Epoch 83/100\n",
      "1/1 [==============================] - 0s 2ms/step - loss: 0.4265 - accuracy: 1.0000\n",
      "[ 0.58776426  0.5975963  -0.01522823]\n",
      "Epoch 84/100\n",
      "1/1 [==============================] - 0s 3ms/step - loss: 0.4180 - accuracy: 1.0000\n",
      "[ 0.5925504   0.602353   -0.02183333]\n",
      "Epoch 85/100\n",
      "1/1 [==============================] - 0s 3ms/step - loss: 0.4093 - accuracy: 1.0000\n",
      "[ 0.59731615  0.6070913  -0.0283948 ]\n",
      "Epoch 86/100\n",
      "1/1 [==============================] - 0s 3ms/step - loss: 0.4005 - accuracy: 1.0000\n",
      "[ 0.6020606   0.61181045 -0.03491139]\n",
      "Epoch 87/100\n",
      "1/1 [==============================] - 0s 3ms/step - loss: 0.3915 - accuracy: 1.0000\n",
      "[ 0.60678285  0.61650944 -0.04138184]\n",
      "Epoch 88/100\n",
      "1/1 [==============================] - 0s 2ms/step - loss: 0.3825 - accuracy: 1.0000\n",
      "[ 0.61148185  0.6211873  -0.0478048 ]\n",
      "Epoch 89/100\n",
      "1/1 [==============================] - 0s 2ms/step - loss: 0.3733 - accuracy: 1.0000\n",
      "[ 0.6161565   0.62584305 -0.05417889]\n",
      "Epoch 90/100\n",
      "1/1 [==============================] - 0s 2ms/step - loss: 0.3640 - accuracy: 1.0000\n",
      "[ 0.6208058   0.6304755  -0.06050269]\n",
      "Epoch 91/100\n",
      "1/1 [==============================] - 0s 2ms/step - loss: 0.3546 - accuracy: 1.0000\n",
      "[ 0.62542856  0.63508356 -0.06677476]\n",
      "Epoch 92/100\n",
      "1/1 [==============================] - 0s 2ms/step - loss: 0.3451 - accuracy: 1.0000\n",
      "[ 0.63002366  0.63966596 -0.07299362]\n",
      "Epoch 93/100\n",
      "1/1 [==============================] - 0s 2ms/step - loss: 0.3356 - accuracy: 1.0000\n",
      "[ 0.6345899   0.64422154 -0.07915778]\n",
      "Epoch 94/100\n",
      "1/1 [==============================] - 0s 2ms/step - loss: 0.3261 - accuracy: 1.0000\n",
      "[ 0.6391261   0.64874905 -0.08526574]\n",
      "Epoch 95/100\n",
      "1/1 [==============================] - 0s 2ms/step - loss: 0.3165 - accuracy: 1.0000\n",
      "[ 0.6436311   0.65324724 -0.09131601]\n",
      "Epoch 96/100\n",
      "1/1 [==============================] - 0s 2ms/step - loss: 0.3069 - accuracy: 1.0000\n",
      "[ 0.64810365  0.65771484 -0.09730712]\n",
      "Epoch 97/100\n",
      "1/1 [==============================] - 0s 2ms/step - loss: 0.2973 - accuracy: 1.0000\n",
      "[ 0.65254265  0.6621506  -0.10323762]\n",
      "Epoch 98/100\n",
      "1/1 [==============================] - 0s 2ms/step - loss: 0.2877 - accuracy: 1.0000\n",
      "[ 0.65694696  0.6665533  -0.1091061 ]\n",
      "Epoch 99/100\n",
      "1/1 [==============================] - 0s 2ms/step - loss: 0.2782 - accuracy: 1.0000\n",
      "[ 0.66131544  0.6709217  -0.11491121]\n",
      "Epoch 100/100\n",
      "1/1 [==============================] - 0s 2ms/step - loss: 0.2687 - accuracy: 1.0000\n",
      "[ 0.6656471   0.6752546  -0.12065164]\n"
     ]
    }
   ],
   "source": [
    "problem = 1\n",
    "model = ALCOVE(stims)\n",
    "model.compile(optimizer=keras.optimizers.RMSprop(learning_rate=0.005), loss=\"binary_crossentropy\", metrics=[\"accuracy\"])\n",
    "history = model.fit(stims, labels[problem], epochs=100, batch_size=8, verbose=True, callbacks=[print_attn])\n",
    "run_df=pd.DataFrame(history.history)\n",
    "run_df['error']=1.0-run_df['accuracy']\n",
    "run_df['block']=run_df.index\n",
    "run_df['problem']=problem+1\n"
   ]
  },
  {
   "cell_type": "code",
   "execution_count": 49,
   "metadata": {},
   "outputs": [
    {
     "data": {
      "text/plain": [
       "<tf.Tensor: shape=(1, 1), dtype=float32, numpy=array([[0.40135992]], dtype=float32)>"
      ]
     },
     "execution_count": 49,
     "metadata": {},
     "output_type": "execute_result"
    }
   ],
   "source": [
    "model=ALCOVE(stims)\n",
    "model(stims[6:7])"
   ]
  },
  {
   "cell_type": "code",
   "execution_count": 53,
   "metadata": {},
   "outputs": [
    {
     "data": {
      "text/plain": [
       "<tf.Variable 'Variable:0' shape=(3,) dtype=float32, numpy=array([0.80867213, 0.79613686, 0.77792245], dtype=float32)>"
      ]
     },
     "execution_count": 53,
     "metadata": {},
     "output_type": "execute_result"
    }
   ],
   "source": [
    "model.attn"
   ]
  },
  {
   "cell_type": "code",
   "execution_count": 63,
   "metadata": {},
   "outputs": [
    {
     "name": "stdout",
     "output_type": "stream",
     "text": [
      "WARNING:tensorflow:6 out of the last 105 calls to <function Model.make_train_function.<locals>.train_function at 0x177dfb310> triggered tf.function retracing. Tracing is expensive and the excessive number of tracings could be due to (1) creating @tf.function repeatedly in a loop, (2) passing tensors with different shapes, (3) passing Python objects instead of tensors. For (1), please define your @tf.function outside of the loop. For (2), @tf.function has experimental_relax_shapes=True option that relaxes argument shapes that can avoid unnecessary retracing. For (3), please refer to https://www.tensorflow.org/guide/function#controlling_retracing and https://www.tensorflow.org/api_docs/python/tf/function for  more details.\n"
     ]
    }
   ],
   "source": [
    "runs_df = []\n",
    "for problem in range(labels.shape[0]):\n",
    "    for i in range(2):\n",
    "        model = ALCOVE(stims)\n",
    "        model.compile(optimizer=keras.optimizers.RMSprop(learning_rate=0.005), loss=\"binary_crossentropy\", metrics=[\"accuracy\"])\n",
    "        history = model.fit(stims, labels[problem], epochs=100, batch_size=8, verbose=False)\n",
    "        run_df=pd.DataFrame(history.history)\n",
    "        run_df['error']=1.0-run_df['accuracy']\n",
    "        run_df['block']=run_df.index\n",
    "        run_df['run']=i\n",
    "        run_df['problem']=problem+1\n",
    "        runs_df.append(run_df)\n",
    "runs_df = pd.concat(runs_df)"
   ]
  },
  {
   "cell_type": "code",
   "execution_count": 52,
   "metadata": {},
   "outputs": [
    {
     "data": {
      "text/plain": [
       "<AxesSubplot:xlabel='block', ylabel='error'>"
      ]
     },
     "execution_count": 52,
     "metadata": {},
     "output_type": "execute_result"
    },
    {
     "data": {
      "image/png": "[encoded data removed]",
      "text/plain": [
       "<Figure size 432x288 with 1 Axes>"
      ]
     },
     "metadata": {
      "needs_background": "light"
     },
     "output_type": "display_data"
    }
   ],
   "source": [
    "sns.lineplot(x='block',y='error',style='problem',hue='problem',data=runs_df.groupby([\"block\",\"problem\"]).mean())"
   ]
  },
  {
   "cell_type": "markdown",
   "metadata": {},
   "source": [
    "## Try 2: Custom Exemplar Layer in the sequential model"
   ]
  },
  {
   "cell_type": "code",
   "execution_count": 163,
   "metadata": {},
   "outputs": [],
   "source": [
    "class ALCOVE_RBF(keras.layers.Layer):\n",
    "\n",
    "    def __init__(self, exemplars, c=6.5, **kwargs):\n",
    "        super().__init__(**kwargs)\n",
    "        self.exemplars = tf.dtypes.cast(exemplars, tf.float32)\n",
    "        self.ne = exemplars.shape[0]\n",
    "        self.ndims = exemplars.shape[1]\n",
    "        self.c = c\n",
    "\n",
    "    def get_attention(self):\n",
    "        return self.attn.numpy()\n",
    "    \n",
    "    def build(self, input_shape):\n",
    "        self.ndims = input_shape[-1]\n",
    "        self.attn = tf.Variable(np.ones((self.ndims ,))/float(self.ndims), dtype=tf.float32, trainable=True)\n",
    "\n",
    "    def call(self, inputs):\n",
    "        h_acts = []\n",
    "        def activation(input_pat):\n",
    "            return tf.math.exp(-self.c*tf.reduce_sum(self.attn*tf.math.abs(self.exemplars - input_pat),1))\n",
    "        h_acts=tf.map_fn(lambda x: activation(x), inputs)\n",
    "        output = tf.stack(h_acts)\n",
    "        return output\n"
   ]
  },
  {
   "cell_type": "code",
   "execution_count": 166,
   "metadata": {},
   "outputs": [
    {
     "data": {
      "image/png": "[encoded data removed]",
      "text/plain": [
       "<IPython.core.display.Image object>"
      ]
     },
     "execution_count": 166,
     "metadata": {},
     "output_type": "execute_result"
    }
   ],
   "source": [
    "model = keras.Sequential(name=\"ALCOVE\")\n",
    "model.add(keras.Input(shape=(3,)))\n",
    "model.add(ALCOVE_RBF(stims, name=\"exemplar_layer\"))\n",
    "model.add(layers.Dense(1, activation=\"sigmoid\", name=\"output_layer\"))\n",
    "keras.utils.plot_model(model, show_shapes=True)"
   ]
  },
  {
   "cell_type": "markdown",
   "metadata": {},
   "source": [
    "yes this model makes sensible predictions still"
   ]
  },
  {
   "cell_type": "code",
   "execution_count": 160,
   "metadata": {},
   "outputs": [
    {
     "name": "stdout",
     "output_type": "stream",
     "text": [
      "Tensor(\"Placeholder:0\", shape=(1, 3), dtype=float32)\n",
      "Tensor(\"exemplar_layer/map/TensorArrayV2Stack/TensorListStack:0\", shape=(1, 8), dtype=float32)\n",
      "tf.Tensor([[0. 0. 0.]], shape=(1, 3), dtype=float32)\n",
      "tf.Tensor(\n",
      "[[1.         0.11455884 0.11455884 0.01312373 0.11455884 0.01312373\n",
      "  0.01312373 0.00150344]], shape=(1, 8), dtype=float32)\n"
     ]
    },
    {
     "data": {
      "text/plain": [
       "<tf.Tensor: shape=(1, 1), dtype=float32, numpy=array([[0.4785397]], dtype=float32)>"
      ]
     },
     "execution_count": 160,
     "metadata": {},
     "output_type": "execute_result"
    }
   ],
   "source": [
    "model(stims[0:1])"
   ]
  },
  {
   "cell_type": "markdown",
   "metadata": {},
   "source": [
    "let's apply it to the type 2 problem:"
   ]
  },
  {
   "cell_type": "code",
   "execution_count": 161,
   "metadata": {},
   "outputs": [
    {
     "name": "stdout",
     "output_type": "stream",
     "text": [
      "Tensor(\"Placeholder:0\", shape=(None, 3), dtype=float32)\n",
      "Tensor(\"exemplar_layer/map/TensorArrayV2Stack/TensorListStack:0\", shape=(None, 8), dtype=float32)\n"
     ]
    }
   ],
   "source": [
    "model = keras.Sequential(name=\"ALCOVE\")\n",
    "model.add(keras.Input(shape=(3,)))\n",
    "model.add(ALCOVE_RBF(stims, name=\"exemplar_layer\"))\n",
    "model.add(layers.Dense(1, activation=\"sigmoid\", name=\"output_layer\"))"
   ]
  },
  {
   "cell_type": "code",
   "execution_count": 168,
   "metadata": {},
   "outputs": [
    {
     "data": {
      "text/plain": [
       "[<__main__.ALCOVE_RBF at 0x17833cd00>,\n",
       " <keras.layers.core.Dense at 0x1773af1c0>]"
      ]
     },
     "execution_count": 168,
     "metadata": {},
     "output_type": "execute_result"
    }
   ],
   "source": [
    "model.layers"
   ]
  },
  {
   "cell_type": "code",
   "execution_count": 170,
   "metadata": {},
   "outputs": [
    {
     "name": "stdout",
     "output_type": "stream",
     "text": [
      "Epoch 1/100\n",
      "1/1 [==============================] - 0s 399ms/step - loss: 0.7266 - accuracy: 0.5000\n",
      "[0.3437688 0.3437688 0.3437687]\n",
      "Epoch 2/100\n",
      "1/1 [==============================] - 0s 2ms/step - loss: 0.6728 - accuracy: 0.3750\n",
      "[0.35192373 0.3519281  0.33751792]\n",
      "Epoch 3/100\n",
      "1/1 [==============================] - 0s 2ms/step - loss: 0.6365 - accuracy: 0.7500\n",
      "[0.35892773 0.35893908 0.3286078 ]\n",
      "Epoch 4/100\n",
      "1/1 [==============================] - 0s 2ms/step - loss: 0.6070 - accuracy: 0.7500\n",
      "[0.3651984  0.36521748 0.32012156]\n",
      "Epoch 5/100\n",
      "1/1 [==============================] - 0s 2ms/step - loss: 0.5816 - accuracy: 0.7500\n",
      "[0.3709474 0.3709741 0.3122616]\n",
      "Epoch 6/100\n",
      "1/1 [==============================] - 0s 3ms/step - loss: 0.5588 - accuracy: 0.7500\n",
      "[0.37630132 0.37633526 0.30493692]\n",
      "Epoch 7/100\n",
      "1/1 [==============================] - 0s 3ms/step - loss: 0.5380 - accuracy: 0.7500\n",
      "[0.3813433  0.38138407 0.2980468 ]\n",
      "Epoch 8/100\n",
      "1/1 [==============================] - 0s 3ms/step - loss: 0.5187 - accuracy: 0.8750\n",
      "[0.38613144 0.38617858 0.29151115]\n",
      "Epoch 9/100\n",
      "1/1 [==============================] - 0s 3ms/step - loss: 0.5007 - accuracy: 0.8750\n",
      "[0.39070812 0.39076126 0.28526902]\n",
      "Epoch 10/100\n",
      "1/1 [==============================] - 0s 3ms/step - loss: 0.4837 - accuracy: 1.0000\n",
      "[0.3951054  0.39516413 0.27927384]\n",
      "Epoch 11/100\n",
      "1/1 [==============================] - 0s 2ms/step - loss: 0.4675 - accuracy: 1.0000\n",
      "[0.39934814 0.39941216 0.27348948]\n",
      "Epoch 12/100\n",
      "1/1 [==============================] - 0s 2ms/step - loss: 0.4521 - accuracy: 1.0000\n",
      "[0.40345606 0.40352505 0.26788753]\n",
      "Epoch 13/100\n",
      "1/1 [==============================] - 0s 2ms/step - loss: 0.4373 - accuracy: 1.0000\n",
      "[0.4074451 0.4075188 0.2624453]\n",
      "Epoch 14/100\n",
      "1/1 [==============================] - 0s 2ms/step - loss: 0.4231 - accuracy: 1.0000\n",
      "[0.4113283  0.41140646 0.25714433]\n",
      "Epoch 15/100\n",
      "1/1 [==============================] - 0s 3ms/step - loss: 0.4094 - accuracy: 1.0000\n",
      "[0.4151164  0.41519883 0.2519695 ]\n",
      "Epoch 16/100\n",
      "1/1 [==============================] - 0s 2ms/step - loss: 0.3962 - accuracy: 1.0000\n",
      "[0.41881853 0.41890502 0.24690819]\n",
      "Epoch 17/100\n",
      "1/1 [==============================] - 0s 2ms/step - loss: 0.3834 - accuracy: 1.0000\n",
      "[0.42244232 0.42253268 0.2419499 ]\n",
      "Epoch 18/100\n",
      "1/1 [==============================] - 0s 2ms/step - loss: 0.3710 - accuracy: 1.0000\n",
      "[0.42599428 0.42608833 0.23708573]\n",
      "Epoch 19/100\n",
      "1/1 [==============================] - 0s 2ms/step - loss: 0.3589 - accuracy: 1.0000\n",
      "[0.42947996 0.4295776  0.23230807]\n",
      "Epoch 20/100\n",
      "1/1 [==============================] - 0s 3ms/step - loss: 0.3471 - accuracy: 1.0000\n",
      "[0.43290418 0.43300524 0.22761041]\n",
      "Epoch 21/100\n",
      "1/1 [==============================] - 0s 2ms/step - loss: 0.3357 - accuracy: 1.0000\n",
      "[0.43627113 0.43637547 0.22298712]\n",
      "Epoch 22/100\n",
      "1/1 [==============================] - 0s 2ms/step - loss: 0.3246 - accuracy: 1.0000\n",
      "[0.43958437 0.4396919  0.21843332]\n",
      "Epoch 23/100\n",
      "1/1 [==============================] - 0s 3ms/step - loss: 0.3138 - accuracy: 1.0000\n",
      "[0.44284707 0.44295767 0.21394475]\n",
      "Epoch 24/100\n",
      "1/1 [==============================] - 0s 3ms/step - loss: 0.3032 - accuracy: 1.0000\n",
      "[0.446062   0.44617555 0.20951767]\n",
      "Epoch 25/100\n",
      "1/1 [==============================] - 0s 2ms/step - loss: 0.2929 - accuracy: 1.0000\n",
      "[0.4492315  0.44934794 0.20514882]\n",
      "Epoch 26/100\n",
      "1/1 [==============================] - 0s 2ms/step - loss: 0.2829 - accuracy: 1.0000\n",
      "[0.45235774 0.45247695 0.20083526]\n",
      "Epoch 27/100\n",
      "1/1 [==============================] - 0s 2ms/step - loss: 0.2731 - accuracy: 1.0000\n",
      "[0.45544255 0.45556447 0.19657443]\n",
      "Epoch 28/100\n",
      "1/1 [==============================] - 0s 2ms/step - loss: 0.2636 - accuracy: 1.0000\n",
      "[0.45848754 0.4586121  0.19236407]\n",
      "Epoch 29/100\n",
      "1/1 [==============================] - 0s 3ms/step - loss: 0.2542 - accuracy: 1.0000\n",
      "[0.46149418 0.4616213  0.18820213]\n",
      "Epoch 30/100\n",
      "1/1 [==============================] - 0s 2ms/step - loss: 0.2452 - accuracy: 1.0000\n",
      "[0.4644637  0.46459335 0.18408678]\n",
      "Epoch 31/100\n",
      "1/1 [==============================] - 0s 3ms/step - loss: 0.2363 - accuracy: 1.0000\n",
      "[0.4673973  0.4675294  0.18001643]\n",
      "Epoch 32/100\n",
      "1/1 [==============================] - 0s 3ms/step - loss: 0.2277 - accuracy: 1.0000\n",
      "[0.4702959  0.47043037 0.1759896 ]\n",
      "Epoch 33/100\n",
      "1/1 [==============================] - 0s 2ms/step - loss: 0.2193 - accuracy: 1.0000\n",
      "[0.47316045 0.47329724 0.172005  ]\n",
      "Epoch 34/100\n",
      "1/1 [==============================] - 0s 3ms/step - loss: 0.2111 - accuracy: 1.0000\n",
      "[0.47599167 0.47613075 0.16806147]\n",
      "Epoch 35/100\n",
      "1/1 [==============================] - 0s 2ms/step - loss: 0.2031 - accuracy: 1.0000\n",
      "[0.4787903  0.47893164 0.16415794]\n",
      "Epoch 36/100\n",
      "1/1 [==============================] - 0s 2ms/step - loss: 0.1953 - accuracy: 1.0000\n",
      "[0.48155698 0.4817005  0.16029349]\n",
      "Epoch 37/100\n",
      "1/1 [==============================] - 0s 3ms/step - loss: 0.1878 - accuracy: 1.0000\n",
      "[0.48429224 0.48443794 0.15646726]\n",
      "Epoch 38/100\n",
      "1/1 [==============================] - 0s 3ms/step - loss: 0.1804 - accuracy: 1.0000\n",
      "[0.48699662 0.48714444 0.15267849]\n",
      "Epoch 39/100\n",
      "1/1 [==============================] - 0s 3ms/step - loss: 0.1733 - accuracy: 1.0000\n",
      "[0.48967054 0.48982045 0.1489265 ]\n",
      "Epoch 40/100\n",
      "1/1 [==============================] - 0s 3ms/step - loss: 0.1663 - accuracy: 1.0000\n",
      "[0.49231446 0.49246642 0.14521065]\n",
      "Epoch 41/100\n",
      "1/1 [==============================] - 0s 3ms/step - loss: 0.1596 - accuracy: 1.0000\n",
      "[0.49492872 0.4950827  0.14153041]\n",
      "Epoch 42/100\n",
      "1/1 [==============================] - 0s 2ms/step - loss: 0.1530 - accuracy: 1.0000\n",
      "[0.49751368 0.49766964 0.13788527]\n",
      "Epoch 43/100\n",
      "1/1 [==============================] - 0s 2ms/step - loss: 0.1467 - accuracy: 1.0000\n",
      "[0.5000697  0.5002276  0.13427478]\n",
      "Epoch 44/100\n",
      "1/1 [==============================] - 0s 2ms/step - loss: 0.1405 - accuracy: 1.0000\n",
      "[0.502597   0.5027568  0.13069853]\n",
      "Epoch 45/100\n",
      "1/1 [==============================] - 0s 2ms/step - loss: 0.1346 - accuracy: 1.0000\n",
      "[0.50509584 0.50525755 0.12715614]\n",
      "Epoch 46/100\n",
      "1/1 [==============================] - 0s 2ms/step - loss: 0.1288 - accuracy: 1.0000\n",
      "[0.5075665  0.5077301  0.12364728]\n",
      "Epoch 47/100\n",
      "1/1 [==============================] - 0s 2ms/step - loss: 0.1232 - accuracy: 1.0000\n",
      "[0.5100093  0.51017475 0.12017164]\n",
      "Epoch 48/100\n",
      "1/1 [==============================] - 0s 3ms/step - loss: 0.1178 - accuracy: 1.0000\n",
      "[0.51242435 0.51259166 0.11672895]\n",
      "Epoch 49/100\n",
      "1/1 [==============================] - 0s 2ms/step - loss: 0.1126 - accuracy: 1.0000\n",
      "[0.51481193 0.51498103 0.11331893]\n",
      "Epoch 50/100\n",
      "1/1 [==============================] - 0s 2ms/step - loss: 0.1076 - accuracy: 1.0000\n",
      "[0.5171723  0.5173431  0.10994135]\n",
      "Epoch 51/100\n",
      "1/1 [==============================] - 0s 2ms/step - loss: 0.1027 - accuracy: 1.0000\n",
      "[0.5195055  0.5196781  0.10659598]\n",
      "Epoch 52/100\n",
      "1/1 [==============================] - 0s 2ms/step - loss: 0.0980 - accuracy: 1.0000\n",
      "[0.52181184 0.5219862  0.10328262]\n",
      "Epoch 53/100\n",
      "1/1 [==============================] - 0s 2ms/step - loss: 0.0935 - accuracy: 1.0000\n",
      "[0.52409154 0.52426755 0.10000106]\n",
      "Epoch 54/100\n",
      "1/1 [==============================] - 0s 3ms/step - loss: 0.0891 - accuracy: 1.0000\n",
      "[0.5263447  0.5265224  0.09675112]\n",
      "Epoch 55/100\n",
      "1/1 [==============================] - 0s 2ms/step - loss: 0.0849 - accuracy: 1.0000\n",
      "[0.5285716  0.52875096 0.09353263]\n",
      "Epoch 56/100\n",
      "1/1 [==============================] - 0s 3ms/step - loss: 0.0809 - accuracy: 1.0000\n",
      "[0.5307724  0.53095335 0.0903454 ]\n",
      "Epoch 57/100\n",
      "1/1 [==============================] - 0s 2ms/step - loss: 0.0770 - accuracy: 1.0000\n",
      "[0.53294724 0.53312975 0.08718926]\n",
      "Epoch 58/100\n",
      "1/1 [==============================] - 0s 2ms/step - loss: 0.0733 - accuracy: 1.0000\n",
      "[0.53509635 0.5352804  0.08406404]\n",
      "Epoch 59/100\n",
      "1/1 [==============================] - 0s 2ms/step - loss: 0.0697 - accuracy: 1.0000\n",
      "[0.5372199  0.5374055  0.08096959]\n",
      "Epoch 60/100\n",
      "1/1 [==============================] - 0s 2ms/step - loss: 0.0663 - accuracy: 1.0000\n",
      "[0.539318   0.5395051  0.07790574]\n",
      "Epoch 61/100\n",
      "1/1 [==============================] - 0s 3ms/step - loss: 0.0630 - accuracy: 1.0000\n",
      "[0.54139096 0.54157954 0.07487232]\n",
      "Epoch 62/100\n",
      "1/1 [==============================] - 0s 2ms/step - loss: 0.0598 - accuracy: 1.0000\n",
      "[0.5434389  0.543629   0.07186916]\n",
      "Epoch 63/100\n",
      "1/1 [==============================] - 0s 2ms/step - loss: 0.0568 - accuracy: 1.0000\n",
      "[0.5454621  0.5456536  0.06889611]\n",
      "Epoch 64/100\n",
      "1/1 [==============================] - 0s 2ms/step - loss: 0.0539 - accuracy: 1.0000\n",
      "[0.5474606  0.54765356 0.06595297]\n",
      "Epoch 65/100\n",
      "1/1 [==============================] - 0s 3ms/step - loss: 0.0511 - accuracy: 1.0000\n",
      "[0.5494348  0.5496291  0.06303959]\n",
      "Epoch 66/100\n",
      "1/1 [==============================] - 0s 2ms/step - loss: 0.0485 - accuracy: 1.0000\n",
      "[0.55138475 0.55158037 0.06015579]\n",
      "Epoch 67/100\n",
      "1/1 [==============================] - 0s 2ms/step - loss: 0.0460 - accuracy: 1.0000\n",
      "[0.5533107  0.5535076  0.05730139]\n",
      "Epoch 68/100\n",
      "1/1 [==============================] - 0s 3ms/step - loss: 0.0435 - accuracy: 1.0000\n",
      "[0.55521286 0.5554111  0.05447621]\n",
      "Epoch 69/100\n",
      "1/1 [==============================] - 0s 4ms/step - loss: 0.0412 - accuracy: 1.0000\n",
      "[0.5570914  0.557291   0.05168005]\n",
      "Epoch 70/100\n",
      "1/1 [==============================] - 0s 2ms/step - loss: 0.0390 - accuracy: 1.0000\n",
      "[0.5589466  0.5591474  0.04891273]\n",
      "Epoch 71/100\n",
      "1/1 [==============================] - 0s 2ms/step - loss: 0.0370 - accuracy: 1.0000\n",
      "[0.5607787  0.5609807  0.04617404]\n",
      "Epoch 72/100\n",
      "1/1 [==============================] - 0s 2ms/step - loss: 0.0350 - accuracy: 1.0000\n",
      "[0.56258786 0.562791   0.04346379]\n",
      "Epoch 73/100\n",
      "1/1 [==============================] - 0s 2ms/step - loss: 0.0331 - accuracy: 1.0000\n",
      "[0.5643743  0.5645786  0.04078176]\n",
      "Epoch 74/100\n",
      "1/1 [==============================] - 0s 2ms/step - loss: 0.0313 - accuracy: 1.0000\n",
      "[0.5661383  0.5663437  0.03812775]\n",
      "Epoch 75/100\n",
      "1/1 [==============================] - 0s 3ms/step - loss: 0.0295 - accuracy: 1.0000\n",
      "[0.5678801  0.56808656 0.03550155]\n",
      "Epoch 76/100\n",
      "1/1 [==============================] - 0s 2ms/step - loss: 0.0279 - accuracy: 1.0000\n",
      "[0.56959987 0.56980735 0.03290293]\n",
      "Epoch 77/100\n",
      "1/1 [==============================] - 0s 2ms/step - loss: 0.0264 - accuracy: 1.0000\n",
      "[0.5712979  0.5715064  0.03033167]\n",
      "Epoch 78/100\n",
      "1/1 [==============================] - 0s 2ms/step - loss: 0.0249 - accuracy: 1.0000\n",
      "[0.5729743  0.57318383 0.02778754]\n",
      "Epoch 79/100\n",
      "1/1 [==============================] - 0s 3ms/step - loss: 0.0235 - accuracy: 1.0000\n",
      "[0.5746295  0.57483995 0.0252703 ]\n",
      "Epoch 80/100\n",
      "1/1 [==============================] - 0s 4ms/step - loss: 0.0222 - accuracy: 1.0000\n",
      "[0.5762636  0.57647496 0.02277973]\n",
      "Epoch 81/100\n",
      "1/1 [==============================] - 0s 3ms/step - loss: 0.0209 - accuracy: 1.0000\n",
      "[0.5778769  0.5780892  0.02031558]\n",
      "Epoch 82/100\n",
      "1/1 [==============================] - 0s 3ms/step - loss: 0.0197 - accuracy: 1.0000\n",
      "[0.5794697  0.57968277 0.01787761]\n",
      "Epoch 83/100\n",
      "1/1 [==============================] - 0s 3ms/step - loss: 0.0186 - accuracy: 1.0000\n",
      "[0.5810421  0.58125603 0.01546557]\n",
      "Epoch 84/100\n",
      "1/1 [==============================] - 0s 4ms/step - loss: 0.0175 - accuracy: 1.0000\n",
      "[0.5825945  0.5828092  0.01307921]\n",
      "Epoch 85/100\n",
      "1/1 [==============================] - 0s 3ms/step - loss: 0.0165 - accuracy: 1.0000\n",
      "[0.58412707 0.5843425  0.01071827]\n",
      "Epoch 86/100\n",
      "1/1 [==============================] - 0s 2ms/step - loss: 0.0156 - accuracy: 1.0000\n",
      "[0.5856401  0.5858562  0.00838252]\n",
      "Epoch 87/100\n",
      "1/1 [==============================] - 0s 3ms/step - loss: 0.0146 - accuracy: 1.0000\n",
      "[0.58713377 0.58735055 0.00607167]\n",
      "Epoch 88/100\n",
      "1/1 [==============================] - 0s 2ms/step - loss: 0.0138 - accuracy: 1.0000\n",
      "[0.5886084  0.58882576 0.00378548]\n",
      "Epoch 89/100\n",
      "1/1 [==============================] - 0s 2ms/step - loss: 0.0130 - accuracy: 1.0000\n",
      "[0.59006417 0.59028214 0.00152368]\n",
      "Epoch 90/100\n",
      "1/1 [==============================] - 0s 3ms/step - loss: 0.0122 - accuracy: 1.0000\n",
      "[ 0.5915014   0.5917199  -0.00071399]\n",
      "Epoch 91/100\n",
      "1/1 [==============================] - 0s 4ms/step - loss: 0.0115 - accuracy: 1.0000\n",
      "[ 0.5929203   0.59313935 -0.0029278 ]\n",
      "Epoch 92/100\n",
      "1/1 [==============================] - 0s 3ms/step - loss: 0.0108 - accuracy: 1.0000\n",
      "[ 0.59432113  0.59454066 -0.00511801]\n",
      "Epoch 93/100\n",
      "1/1 [==============================] - 0s 2ms/step - loss: 0.0102 - accuracy: 1.0000\n",
      "[ 0.59570414  0.5959241  -0.00728489]\n",
      "Epoch 94/100\n",
      "1/1 [==============================] - 0s 3ms/step - loss: 0.0096 - accuracy: 1.0000\n",
      "[ 0.59706956  0.5972899  -0.00942871]\n",
      "Epoch 95/100\n",
      "1/1 [==============================] - 0s 2ms/step - loss: 0.0090 - accuracy: 1.0000\n",
      "[ 0.5984177   0.59863836 -0.01154974]\n",
      "Epoch 96/100\n",
      "1/1 [==============================] - 0s 3ms/step - loss: 0.0085 - accuracy: 1.0000\n",
      "[ 0.59974873  0.5999697  -0.01364825]\n",
      "Epoch 97/100\n",
      "1/1 [==============================] - 0s 2ms/step - loss: 0.0080 - accuracy: 1.0000\n",
      "[ 0.6010629   0.60128415 -0.01572451]\n",
      "Epoch 98/100\n",
      "1/1 [==============================] - 0s 2ms/step - loss: 0.0075 - accuracy: 1.0000\n",
      "[ 0.6023605   0.602582   -0.01777878]\n",
      "Epoch 99/100\n",
      "1/1 [==============================] - 0s 3ms/step - loss: 0.0070 - accuracy: 1.0000\n",
      "[ 0.60364175  0.60386336 -0.01981135]\n",
      "Epoch 100/100\n",
      "1/1 [==============================] - 0s 2ms/step - loss: 0.0066 - accuracy: 1.0000\n",
      "[ 0.60490686  0.6051286  -0.02182247]\n"
     ]
    },
    {
     "data": {
      "image/png": "[encoded data removed]",
      "text/plain": [
       "<IPython.core.display.Image object>"
      ]
     },
     "execution_count": 170,
     "metadata": {},
     "output_type": "execute_result"
    }
   ],
   "source": [
    "problem = 1\n",
    "# model = keras.Sequential([\n",
    "#     ALCOVE_RBF(stims),\n",
    "#     layers.Dense(1, activation=\"sigmoid\")\n",
    "# ])\n",
    "model = keras.Sequential(name=\"ALCOVE\")\n",
    "model.add(keras.Input(shape=(3,)))  ## this doesn't work but needs to for the multi optimizer to wrok\n",
    "model.add(ALCOVE_RBF(stims, name=\"exemplar_layer\"))\n",
    "model.add(layers.Dense(1, activation=\"sigmoid\", name=\"output_layer\"))\n",
    "#model(stims[0:1])  # <-- needed because I can't figure out the symbolic shape \n",
    "\n",
    "# this is a custom call back whcih prints the value of the attention weights\n",
    "print_attn = tf.keras.callbacks.LambdaCallback(on_epoch_end=lambda batch, logs: print(model.layers[0].get_attention()))\n",
    "\n",
    "optimizers = [\n",
    "    tf.keras.optimizers.RMSprop(learning_rate=0.0033),  # different learning rate for first later\n",
    "    tf.keras.optimizers.RMSprop(learning_rate=0.03) # than for the rest\n",
    "]\n",
    "optimizers_and_layers = [(optimizers[0], model.layers[0]), (optimizers[1], model.layers[1])]\n",
    "optimizer = tfa.optimizers.MultiOptimizer(optimizers_and_layers)\n",
    "\n",
    "# change the loss!!\n",
    "model.compile(optimizer=optimizer, loss=\"binary_crossentropy\", metrics=[\"accuracy\"])\n",
    "history = model.fit(stims, labels[problem], epochs=100, batch_size=8, verbose=True, callbacks=[print_attn])\n",
    "run_df=pd.DataFrame(history.history)\n",
    "run_df['error']=1.0-run_df['accuracy']\n",
    "run_df['block']=run_df.index\n",
    "run_df['problem']=problem+1\n",
    "\n",
    "keras.utils.plot_model(model, show_shapes=True)"
   ]
  },
  {
   "cell_type": "code",
   "execution_count": 129,
   "metadata": {},
   "outputs": [
    {
     "data": {
      "text/plain": [
       "[<__main__.ALCOVE_RBF at 0x17784ab50>,\n",
       " <keras.layers.core.Dense at 0x17784a6a0>]"
      ]
     },
     "execution_count": 129,
     "metadata": {},
     "output_type": "execute_result"
    }
   ],
   "source": [
    "model.layers"
   ]
  },
  {
   "cell_type": "code",
   "execution_count": null,
   "metadata": {},
   "outputs": [],
   "source": []
  }
 ],
 "metadata": {
  "interpreter": {
   "hash": "67c609c26a12882019c58b5979be767465c6e52497aaf1bd5d29b78cbba66a56"
  },
  "kernelspec": {
   "display_name": "Python 3.9.4 64-bit ('science': virtualenv)",
   "language": "python",
   "name": "python3"
  },
  "language_info": {
   "codemirror_mode": {
    "name": "ipython",
    "version": 3
   },
   "file_extension": ".py",
   "mimetype": "text/x-python",
   "name": "python",
   "nbconvert_exporter": "python",
   "pygments_lexer": "ipython3",
   "version": "3.9.4"
  },
  "orig_nbformat": 4
 },
 "nbformat": 4,
 "nbformat_minor": 2
}
