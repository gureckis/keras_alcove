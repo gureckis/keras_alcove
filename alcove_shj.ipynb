{
 "cells": [
  {
   "cell_type": "code",
   "execution_count": 1,
   "metadata": {},
   "outputs": [],
   "source": [
    "import numpy as np\n",
    "from tensorflow import keras\n",
    "from tensorflow.keras import layers\n",
    "import tensorflow as tf\n",
    "import seaborn as sns\n",
    "import pandas as pd"
   ]
  },
  {
   "cell_type": "code",
   "execution_count": 14,
   "metadata": {},
   "outputs": [
    {
     "data": {
      "text/plain": [
       "1.7320508075688772"
      ]
     },
     "execution_count": 14,
     "metadata": {},
     "output_type": "execute_result"
    }
   ],
   "source": [
    "np.sqrt(np.sum(np.power(np.array([0,0,0]) - np.array([1,1,1]),2.0)))"
   ]
  },
  {
   "cell_type": "code",
   "execution_count": 2,
   "metadata": {},
   "outputs": [],
   "source": [
    "stims = np.array([[0,0,0],\n",
    "         [0,0,1],\n",
    "         [0,1,0],\n",
    "         [0,1,1],\n",
    "         [1,0,0],\n",
    "         [1,0,1],\n",
    "         [1,1,0],\n",
    "         [1,1,1]], dtype=np.float32)\n",
    "\n",
    "labels = np.array([\n",
    "                    [0,0,0,0,1,1,1,1], # type 1\n",
    "                    [0,0,1,1,1,1,0,0], # type 2\n",
    "                    [1,1,1,0,0,1,0,0], # type 3\n",
    "                    [1,1,1,0,1,0,0,0], # type 4\n",
    "                    [1,1,1,0,0,0,0,1], # type 5\n",
    "                    [1,0,0,1,0,1,1,0]  # type 6\n",
    "                ], dtype=np.float32)\n"
   ]
  },
  {
   "cell_type": "code",
   "execution_count": 172,
   "metadata": {},
   "outputs": [],
   "source": [
    "runs_df = []\n",
    "for problem in range(labels.shape[0]):\n",
    "    for i in range(100):\n",
    "        model = keras.Sequential([\n",
    "            layers.Dense(5, activation=\"relu\"),\n",
    "            layers.Dense(1, activation=\"sigmoid\")\n",
    "        ])\n",
    "        model.compile(optimizer=keras.optimizers.RMSprop(learning_rate=0.005), loss=\"binary_crossentropy\", metrics=[\"accuracy\"])\n",
    "        history = model.fit(stims, labels[problem], epochs=100, batch_size=8, verbose=False)\n",
    "        run_df=pd.DataFrame(history.history)\n",
    "        run_df['error']=1.0-run_df['accuracy']\n",
    "        run_df['block']=run_df.index\n",
    "        run_df['run']=i\n",
    "        run_df['problem']=problem+1\n",
    "        runs_df.append(run_df)\n",
    "runs_df = pd.concat(runs_df)\n"
   ]
  },
  {
   "cell_type": "code",
   "execution_count": 108,
   "metadata": {},
   "outputs": [
    {
     "data": {
      "text/html": [
       "<div>\n",
       "<style scoped>\n",
       "    .dataframe tbody tr th:only-of-type {\n",
       "        vertical-align: middle;\n",
       "    }\n",
       "\n",
       "    .dataframe tbody tr th {\n",
       "        vertical-align: top;\n",
       "    }\n",
       "\n",
       "    .dataframe thead th {\n",
       "        text-align: right;\n",
       "    }\n",
       "</style>\n",
       "<table border=\"1\" class=\"dataframe\">\n",
       "  <thead>\n",
       "    <tr style=\"text-align: right;\">\n",
       "      <th></th>\n",
       "      <th>loss</th>\n",
       "      <th>accuracy</th>\n",
       "      <th>error</th>\n",
       "      <th>block</th>\n",
       "      <th>run</th>\n",
       "      <th>problem</th>\n",
       "    </tr>\n",
       "  </thead>\n",
       "  <tbody>\n",
       "    <tr>\n",
       "      <th>0</th>\n",
       "      <td>0.663492</td>\n",
       "      <td>0.750</td>\n",
       "      <td>0.250</td>\n",
       "      <td>0</td>\n",
       "      <td>0</td>\n",
       "      <td>0</td>\n",
       "    </tr>\n",
       "    <tr>\n",
       "      <th>1</th>\n",
       "      <td>0.658746</td>\n",
       "      <td>0.625</td>\n",
       "      <td>0.375</td>\n",
       "      <td>1</td>\n",
       "      <td>0</td>\n",
       "      <td>0</td>\n",
       "    </tr>\n",
       "    <tr>\n",
       "      <th>2</th>\n",
       "      <td>0.655073</td>\n",
       "      <td>0.625</td>\n",
       "      <td>0.375</td>\n",
       "      <td>2</td>\n",
       "      <td>0</td>\n",
       "      <td>0</td>\n",
       "    </tr>\n",
       "    <tr>\n",
       "      <th>3</th>\n",
       "      <td>0.652146</td>\n",
       "      <td>0.625</td>\n",
       "      <td>0.375</td>\n",
       "      <td>3</td>\n",
       "      <td>0</td>\n",
       "      <td>0</td>\n",
       "    </tr>\n",
       "    <tr>\n",
       "      <th>4</th>\n",
       "      <td>0.649537</td>\n",
       "      <td>0.625</td>\n",
       "      <td>0.375</td>\n",
       "      <td>4</td>\n",
       "      <td>0</td>\n",
       "      <td>0</td>\n",
       "    </tr>\n",
       "  </tbody>\n",
       "</table>\n",
       "</div>"
      ],
      "text/plain": [
       "       loss  accuracy  error  block  run  problem\n",
       "0  0.663492     0.750  0.250      0    0        0\n",
       "1  0.658746     0.625  0.375      1    0        0\n",
       "2  0.655073     0.625  0.375      2    0        0\n",
       "3  0.652146     0.625  0.375      3    0        0\n",
       "4  0.649537     0.625  0.375      4    0        0"
      ]
     },
     "execution_count": 108,
     "metadata": {},
     "output_type": "execute_result"
    }
   ],
   "source": [
    "runs_df.head()"
   ]
  },
  {
   "cell_type": "code",
   "execution_count": 133,
   "metadata": {},
   "outputs": [
    {
     "data": {
      "text/plain": [
       "<AxesSubplot:xlabel='block', ylabel='error'>"
      ]
     },
     "execution_count": 133,
     "metadata": {},
     "output_type": "execute_result"
    },
    {
     "data": {
      "image/png": "[encoded data removed]",
      "text/plain": [
       "<Figure size 432x288 with 1 Axes>"
      ]
     },
     "metadata": {
      "needs_background": "light"
     },
     "output_type": "display_data"
    }
   ],
   "source": [
    "sns.lineplot(x='block',y='error',style='problem',hue='problem',data=runs_df.groupby([\"block\",\"problem\"]).mean())"
   ]
  },
  {
   "cell_type": "markdown",
   "metadata": {},
   "source": [
    "## Alcove Implementation"
   ]
  },
  {
   "cell_type": "markdown",
   "metadata": {},
   "source": [
    "1. tracking the weights (callbacks)\n",
    "2. custom loss to use humble teacher\n",
    "(2b. it should 1 sigmoid 2 softmax)\n",
    "3. use a different learning rate for attention than the output weights\n"
   ]
  },
  {
   "cell_type": "code",
   "execution_count": 50,
   "metadata": {},
   "outputs": [],
   "source": [
    "class ALCOVE(keras.Model):\n",
    "    def __init__(self, exemplars, c=6.5, phi=2.5):\n",
    "        super().__init__()\n",
    "        self.exemplars = tf.dtypes.cast(exemplars, tf.float32)\n",
    "        self.ne = exemplars.shape[0]\n",
    "        self.attn = tf.Variable(np.ones((3,))/3.0, dtype=tf.float32, trainable=True)\n",
    "        self.output_layer = layers.Dense(1, activation=\"sigmoid\", use_bias=False)  # later this should be two output and humble teacher loss\n",
    "        self.c = c\n",
    "        self.phi = phi\n",
    "\n",
    "    def call(self, inputs):\n",
    "        h_acts = []\n",
    "        for n_ins in range(inputs.shape[0]):\n",
    "            h_act = tf.math.exp(-self.c*tf.reduce_sum(self.attn*tf.math.abs(self.exemplars - inputs[n_ins]),1))\n",
    "            h_acts.append(h_act)\n",
    "        output = self.output_layer(tf.stack(h_acts))\n",
    "        return output\n",
    "\n"
   ]
  },
  {
   "cell_type": "code",
   "execution_count": 49,
   "metadata": {},
   "outputs": [
    {
     "data": {
      "text/plain": [
       "<tf.Tensor: shape=(1, 1), dtype=float32, numpy=array([[0.40135992]], dtype=float32)>"
      ]
     },
     "execution_count": 49,
     "metadata": {},
     "output_type": "execute_result"
    }
   ],
   "source": [
    "model=ALCOVE(stims)\n",
    "model(stims[6:7])"
   ]
  },
  {
   "cell_type": "code",
   "execution_count": 51,
   "metadata": {},
   "outputs": [],
   "source": [
    "runs_df = []\n",
    "for problem in range(labels.shape[0]):\n",
    "    for i in range(2):\n",
    "        model = ALCOVE(stims)\n",
    "        model.compile(optimizer=keras.optimizers.RMSprop(learning_rate=0.005), loss=\"binary_crossentropy\", metrics=[\"accuracy\"])\n",
    "        history = model.fit(stims, labels[problem], epochs=100, batch_size=8, verbose=False)\n",
    "        run_df=pd.DataFrame(history.history)\n",
    "        run_df['error']=1.0-run_df['accuracy']\n",
    "        run_df['block']=run_df.index\n",
    "        run_df['run']=i\n",
    "        run_df['problem']=problem+1\n",
    "        runs_df.append(run_df)\n",
    "runs_df = pd.concat(runs_df)"
   ]
  },
  {
   "cell_type": "code",
   "execution_count": 52,
   "metadata": {},
   "outputs": [
    {
     "data": {
      "text/plain": [
       "<AxesSubplot:xlabel='block', ylabel='error'>"
      ]
     },
     "execution_count": 52,
     "metadata": {},
     "output_type": "execute_result"
    },
    {
     "data": {
      "image/png": "[encoded data removed]",
      "text/plain": [
       "<Figure size 432x288 with 1 Axes>"
      ]
     },
     "metadata": {
      "needs_background": "light"
     },
     "output_type": "display_data"
    }
   ],
   "source": [
    "sns.lineplot(x='block',y='error',style='problem',hue='problem',data=runs_df.groupby([\"block\",\"problem\"]).mean())"
   ]
  },
  {
   "cell_type": "code",
   "execution_count": null,
   "metadata": {},
   "outputs": [],
   "source": []
  }
 ],
 "metadata": {
  "interpreter": {
   "hash": "67c609c26a12882019c58b5979be767465c6e52497aaf1bd5d29b78cbba66a56"
  },
  "kernelspec": {
   "display_name": "Python 3.9.4 64-bit ('science': virtualenv)",
   "language": "python",
   "name": "python3"
  },
  "language_info": {
   "codemirror_mode": {
    "name": "ipython",
    "version": 3
   },
   "file_extension": ".py",
   "mimetype": "text/x-python",
   "name": "python",
   "nbconvert_exporter": "python",
   "pygments_lexer": "ipython3",
   "version": "3.9.4"
  },
  "orig_nbformat": 4
 },
 "nbformat": 4,
 "nbformat_minor": 2
}
